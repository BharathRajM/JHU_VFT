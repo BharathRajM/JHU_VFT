{
 "cells": [
  {
   "cell_type": "markdown",
   "metadata": {},
   "source": [
    "### Sample visual field testing"
   ]
  },
  {
   "cell_type": "code",
   "execution_count": 1,
   "metadata": {},
   "outputs": [],
   "source": [
    "import pandas as pd\n",
    "import matplotlib.pyplot as plt\n",
    "%matplotlib inline\n",
    "import seaborn as sns\n",
    "import numpy as np\n",
    "import math"
   ]
  },
  {
   "cell_type": "code",
   "execution_count": 2,
   "metadata": {},
   "outputs": [],
   "source": [
    "width = 2\n",
    "height = 2"
   ]
  },
  {
   "cell_type": "code",
   "execution_count": 3,
   "metadata": {},
   "outputs": [
    {
     "data": {
      "text/plain": [
       "[[0.0, 0.0], [0.0, 0.0]]"
      ]
     },
     "execution_count": 3,
     "metadata": {},
     "output_type": "execute_result"
    }
   ],
   "source": [
    "# present stimulus at random locations in the VF = 8x8 matrix\n",
    "vf = [[0.0 for x in range(width)] for y in range(height)]\n",
    "vf"
   ]
  },
  {
   "cell_type": "code",
   "execution_count": 4,
   "metadata": {},
   "outputs": [
    {
     "data": {
      "text/plain": [
       "[[[[1, 'No']], [[1, 'No']]], [[[1, 'No']], [[1, 'No']]]]"
      ]
     },
     "execution_count": 4,
     "metadata": {},
     "output_type": "execute_result"
    }
   ],
   "source": [
    "responses_cl = [[[[1,\"No\"]] for x in range(width)] for y in range(height)]\n",
    "responses_cl"
   ]
  },
  {
   "cell_type": "code",
   "execution_count": 5,
   "metadata": {},
   "outputs": [],
   "source": [
    "def reduce_contrast(x,y):\n",
    "    global responses_cl\n",
    "    global step\n",
    "    responses_cl[x][y][-1][1]=\"Yes\"\n",
    "    responses_cl[x][y].append([responses_cl[x][y][-1][0]-step,\"No\"])\n",
    "    \n",
    "def increase_contrast(x,y):\n",
    "    global responses_cl\n",
    "    global step\n",
    "    responses_cl[x][y].append([responses_cl[x][y][-1][0]+step*0.5,\"No\"])"
   ]
  },
  {
   "cell_type": "markdown",
   "metadata": {},
   "source": [
    "### Start with uniform prior\n",
    " - Since we do not know the estimates of the contrast levels we start with a uniform contrast level of 1 on all the locations"
   ]
  },
  {
   "cell_type": "code",
   "execution_count": 6,
   "metadata": {},
   "outputs": [],
   "source": [
    "# contrast_levels 0-1\n",
    "# initially start with high contrast and then keep reducing until response is not recieved\n",
    "contrast_level = 1.0\n",
    "step = 0.1"
   ]
  },
  {
   "cell_type": "markdown",
   "metadata": {},
   "source": [
    "## Perform showing contrasts at different levels/regions and obtain user inputs"
   ]
  },
  {
   "cell_type": "markdown",
   "metadata": {},
   "source": [
    "#### Use staircase procedure"
   ]
  },
  {
   "cell_type": "code",
   "execution_count": 7,
   "metadata": {},
   "outputs": [
    {
     "name": "stdout",
     "output_type": "stream",
     "text": [
      "\n",
      " Do see the marker at:\n",
      "Location: x: 0 y: 0 contrast_level: 1\n",
      "Enter 1 if you see the marker else press 0 : 1\n",
      "\n",
      " Do see the marker at:\n",
      "Location: x: 0 y: 1 contrast_level: 1\n",
      "Enter 1 if you see the marker else press 0 : 1\n",
      "\n",
      " Do see the marker at:\n",
      "Location: x: 1 y: 0 contrast_level: 1\n",
      "Enter 1 if you see the marker else press 0 : 1\n",
      "\n",
      " Do see the marker at:\n",
      "Location: x: 1 y: 1 contrast_level: 1\n",
      "Enter 1 if you see the marker else press 0 : 1\n",
      "\n",
      " Do see the marker at:\n",
      "Location: x: 0 y: 0 contrast_level: 0.9\n",
      "Enter 1 if you see the marker else press 0 : 1\n",
      "\n",
      " Do see the marker at:\n",
      "Location: x: 0 y: 1 contrast_level: 0.9\n",
      "Enter 1 if you see the marker else press 0 : 0\n",
      "\n",
      " Do see the marker at:\n",
      "Location: x: 1 y: 0 contrast_level: 0.9\n",
      "Enter 1 if you see the marker else press 0 : 1\n",
      "\n",
      " Do see the marker at:\n",
      "Location: x: 1 y: 1 contrast_level: 0.9\n",
      "Enter 1 if you see the marker else press 0 : 1\n",
      "\n",
      " Do see the marker at:\n",
      "Location: x: 0 y: 0 contrast_level: 0.8\n",
      "Enter 1 if you see the marker else press 0 : 0\n",
      "\n",
      " Do see the marker at:\n",
      "Location: x: 0 y: 1 contrast_level: 0.9500000000000001\n",
      "Enter 1 if you see the marker else press 0 : 1\n",
      "\n",
      " Do see the marker at:\n",
      "Location: x: 1 y: 0 contrast_level: 0.8\n",
      "Enter 1 if you see the marker else press 0 : 1\n",
      "\n",
      " Do see the marker at:\n",
      "Location: x: 1 y: 1 contrast_level: 0.8\n",
      "Enter 1 if you see the marker else press 0 : 1\n",
      "\n",
      " Do see the marker at:\n",
      "Location: x: 0 y: 0 contrast_level: 0.8500000000000001\n",
      "Enter 1 if you see the marker else press 0 : 1\n",
      "\n",
      " Do see the marker at:\n",
      "Location: x: 0 y: 1 contrast_level: 0.8500000000000001\n",
      "Enter 1 if you see the marker else press 0 : 1\n",
      "\n",
      " Do see the marker at:\n",
      "Location: x: 1 y: 0 contrast_level: 0.7000000000000001\n",
      "Enter 1 if you see the marker else press 0 : 1\n",
      "\n",
      " Do see the marker at:\n",
      "Location: x: 1 y: 1 contrast_level: 0.7000000000000001\n",
      "Enter 1 if you see the marker else press 0 : 1\n",
      "\n",
      " Do see the marker at:\n",
      "Location: x: 0 y: 0 contrast_level: 0.7500000000000001\n",
      "Enter 1 if you see the marker else press 0 : 0\n",
      "\n",
      " Do see the marker at:\n",
      "Location: x: 0 y: 1 contrast_level: 0.7500000000000001\n",
      "Enter 1 if you see the marker else press 0 : 0\n",
      "\n",
      " Do see the marker at:\n",
      "Location: x: 1 y: 0 contrast_level: 0.6000000000000001\n",
      "Enter 1 if you see the marker else press 0 : 1\n",
      "\n",
      " Do see the marker at:\n",
      "Location: x: 1 y: 1 contrast_level: 0.6000000000000001\n",
      "Enter 1 if you see the marker else press 0 : 1\n"
     ]
    }
   ],
   "source": [
    "count = 0\n",
    "\n",
    "while count<5:\n",
    "\n",
    "    for x in range(len(vf)): # rows\n",
    "        for y in range(len(vf[0])): #columns\n",
    "            print(\"\\n Do see the marker at:\")\n",
    "            print(\"Location: x:\",x,\"y:\",y,\"contrast_level:\",responses_cl[x][y][-1][0])\n",
    "            output = int(input(\"Enter 1 if you see the marker else press 0 : \"))\n",
    "            if(output==1):\n",
    "                reduce_contrast(x,y)\n",
    "            if(output==0):\n",
    "                increase_contrast(x,y)\n",
    "    count+=1"
   ]
  },
  {
   "cell_type": "code",
   "execution_count": 14,
   "metadata": {},
   "outputs": [
    {
     "data": {
      "text/plain": [
       "[[[[1, 'Yes'],\n",
       "   [0.9, 'Yes'],\n",
       "   [0.8, 'No'],\n",
       "   [0.8500000000000001, 'Yes'],\n",
       "   [0.7500000000000001, 'No'],\n",
       "   [0.8000000000000002, 'No']],\n",
       "  [[1, 'Yes'],\n",
       "   [0.9, 'No'],\n",
       "   [0.9500000000000001, 'Yes'],\n",
       "   [0.8500000000000001, 'Yes'],\n",
       "   [0.7500000000000001, 'No'],\n",
       "   [0.8000000000000002, 'No']]],\n",
       " [[[1, 'Yes'],\n",
       "   [0.9, 'Yes'],\n",
       "   [0.8, 'Yes'],\n",
       "   [0.7000000000000001, 'Yes'],\n",
       "   [0.6000000000000001, 'Yes'],\n",
       "   [0.5000000000000001, 'No']],\n",
       "  [[1, 'Yes'],\n",
       "   [0.9, 'Yes'],\n",
       "   [0.8, 'Yes'],\n",
       "   [0.7000000000000001, 'Yes'],\n",
       "   [0.6000000000000001, 'Yes'],\n",
       "   [0.5000000000000001, 'No']]]]"
      ]
     },
     "execution_count": 14,
     "metadata": {},
     "output_type": "execute_result"
    }
   ],
   "source": [
    "responses_cl"
   ]
  },
  {
   "cell_type": "code",
   "execution_count": null,
   "metadata": {},
   "outputs": [],
   "source": []
  },
  {
   "cell_type": "code",
   "execution_count": 15,
   "metadata": {},
   "outputs": [],
   "source": [
    "def plot_observations_loc(x_cor=0,y_cor=0):\n",
    "    \n",
    "    print(\"location: x_cor:\",x_cor,\" y_cor:\",y_cor)\n",
    "    \n",
    "    observed_levels = []\n",
    "    for i in range(len(responses_cl[x_cor][y_cor])):\n",
    "        observed_levels.append(responses_cl[x_cor][y_cor][i][0]) # y axis\n",
    "\n",
    "    plt.plot(range(len(responses_cl[x_cor][y_cor])),observed_levels,marker=\"D\")\n",
    "    # naming the x axis\n",
    "    plt.xlabel('Trial number')\n",
    "    # naming the y axis\n",
    "    plt.ylabel('Contrast levels')\n",
    "\n",
    "    plt.show()"
   ]
  },
  {
   "cell_type": "code",
   "execution_count": 20,
   "metadata": {},
   "outputs": [
    {
     "name": "stdout",
     "output_type": "stream",
     "text": [
      "location: x_cor: 0  y_cor: 0\n"
     ]
    },
    {
     "data": {
      "image/png": "[encoded data removed]",
      "text/plain": [
       "<Figure size 432x288 with 1 Axes>"
      ]
     },
     "metadata": {
      "needs_background": "light"
     },
     "output_type": "display_data"
    }
   ],
   "source": [
    "plot_observations_loc(x_cor=0,y_cor=0)"
   ]
  },
  {
   "cell_type": "markdown",
   "metadata": {},
   "source": [
    "- Staircase procedure just estimates the threshold of the contrast but does not help in estimating the slope of a pyschometric function\n",
    "- We fit our data on a weibull distribution using a \"maximum likelihood\" procedure to pick levels that predict the correct performance\n",
    "\n",
    "#### Weibull distribution\n",
    "y = 1 - e^(x/lambda)^k\n",
    "\n",
    "where \n",
    "    x = stimulus intensity\n",
    "    y = percentage of correct responses\n",
    "    lambda and k are free parameters which we estimate\n",
    "    \n",
    "#refer http://courses.washington.edu/matlab1/Lesson_5.html\n",
    "\n",
    "our formula:\n",
    "out = g + (1 - g).*(1 - exp(-(x./lambda).^k));\n",
    "\n",
    "\n",
    "##### parameter search: \n",
    " - scale parameter: lambda(-3:0,0.0001)\n",
    " - shape parameter: k0(2:2.5,0.1)\n",
    "<br>These are taken from previous matlab code"
   ]
  },
  {
   "cell_type": "markdown",
   "metadata": {},
   "source": [
    "### Fit the weibull distribution on this data for each region based on responses on contrast levels"
   ]
  },
  {
   "cell_type": "code",
   "execution_count": 24,
   "metadata": {},
   "outputs": [],
   "source": [
    "# reimplemented from matlab\n",
    "# g=0\n",
    "\n",
    "# required for fractional stepsize\n",
    "\n",
    "def drange(start, stop, step):\n",
    "    r = start\n",
    "    while r < stop:\n",
    "        yield r\n",
    "        r += step\n",
    "\n",
    "def weibull(x,k,l,g):\n",
    "    return g + (1 - g)*(1 - math.exp((-x/l)**k))\n",
    "        \n",
    "def own_fitweibull(responses_cl,g=0):\n",
    "    \n",
    "    i0 = drange(-3,0,0.001)\n",
    "    lmbda = [\"%g\" % x for x in i0]          #Scale parameter\n",
    "    \n",
    "    i1 = drange(2,2.5,0.1)\n",
    "    k0 = [\"%g\" % x for x in i1]                  #Shape parameter or slope\n",
    "    \n",
    "    \n",
    "    LL0 = float('-inf') \n",
    "    optLambda = float('-inf')\n",
    "    mleK = float('-inf')\n",
    "    \n",
    "    \n",
    "    # for each location in the matrix estimate the weibull distribution\n",
    "    \n",
    "    for x in range(len(vf)): # rows\n",
    "        for y in range(len(vf[0])): #columns\n",
    "            df = pd.DataFrame(responses_cl[x][y],columns=[\"Contrast\",\"Response\"])\n",
    "            \n",
    "            correct_responses = list(df.loc[df.Response==\"Yes\"].Contrast)\n",
    "            incorrect_responses = list(df.loc[df.Response==\"No\"].Contrast)\n",
    "            \n",
    "            for cc in range(len(lmbda)):\n",
    "                for ss in range(len(k0)):\n",
    "\n",
    "                    # log likelihood\n",
    "                    CR = weibull(correct_responses, k0[ss], 10**lmbda[cc], g);    # Correct responses\n",
    "                    \n",
    "                    IR = weibull(incorrect_responses, k0[ss], 10**lmbda[cc], g);  # Incorrect responses\n",
    "                    \n",
    "                    LL = sum(log(CR)) + sum(log(1 - IR)); # likelihood estimate\n",
    "                    \n",
    "                    if(LL>LL0):\n",
    "                        optLambda = lmbda[cc]\n",
    "                        mleK = k0[ss]\n",
    "                        LL0 = LL\n",
    "                        \n",
    "    # estimate standard errors\n",
    "    \n",
    "    \n",
    "    # return the most optimal variables\n",
    "    threshold = 10**optLambda\n",
    "    slope = mleK\n",
    "    return threshold,slope"
   ]
  },
  {
   "cell_type": "code",
   "execution_count": null,
   "metadata": {},
   "outputs": [],
   "source": []
  },
  {
   "cell_type": "markdown",
   "metadata": {},
   "source": [
    "## Check for a goodness of fit test based on the responses \n",
    "- use a R-squared test to check for goodness of fit "
   ]
  },
  {
   "cell_type": "code",
   "execution_count": null,
   "metadata": {},
   "outputs": [],
   "source": []
  },
  {
   "cell_type": "markdown",
   "metadata": {},
   "source": [
    "## Showcase the weibull distribution on each region"
   ]
  },
  {
   "cell_type": "code",
   "execution_count": 26,
   "metadata": {},
   "outputs": [],
   "source": [
    "# plot the weibull distribution refer slides"
   ]
  },
  {
   "cell_type": "markdown",
   "metadata": {},
   "source": [
    "### Plot the resulting final contrast levels (last \"Yes\")"
   ]
  },
  {
   "cell_type": "code",
   "execution_count": 27,
   "metadata": {},
   "outputs": [
    {
     "data": {
      "text/plain": [
       "[[0.8500000000000001, 0.8500000000000001],\n",
       " [0.6000000000000001, 0.6000000000000001]]"
      ]
     },
     "execution_count": 27,
     "metadata": {},
     "output_type": "execute_result"
    }
   ],
   "source": [
    "final_contrast_levels = [[0 for x in range(width)] for y in range(height)]\n",
    "for x in range(len(responses_cl)): # rows\n",
    "    for y in range(len(responses_cl[0])): #columns\n",
    "        df = pd.DataFrame(responses_cl[x][y],columns=[\"Contrast\",\"Response\"])\n",
    "        correct_responses = list(df.loc[df.Response==\"Yes\"].Contrast)\n",
    "        final_contrast_levels[x][y] = correct_responses[-1]\n",
    "final_contrast_levels        "
   ]
  },
  {
   "cell_type": "code",
   "execution_count": 30,
   "metadata": {},
   "outputs": [
    {
     "data": {
      "image/png": "[encoded data removed]",
      "text/plain": [
       "<Figure size 1440x720 with 2 Axes>"
      ]
     },
     "metadata": {
      "needs_background": "light"
     },
     "output_type": "display_data"
    }
   ],
   "source": [
    "f = plt.figure()\n",
    "f.set_figwidth(20)\n",
    "f.set_figheight(10)\n",
    "sns.heatmap(final_contrast_levels,linewidth=0.5,vmin=0, vmax=1)\n",
    "plt.show()"
   ]
  },
  {
   "cell_type": "code",
   "execution_count": null,
   "metadata": {},
   "outputs": [],
   "source": []
  }
 ],
 "metadata": {
  "kernelspec": {
   "display_name": "Python 3",
   "language": "python",
   "name": "python3"
  },
  "language_info": {
   "codemirror_mode": {
    "name": "ipython",
    "version": 3
   },
   "file_extension": ".py",
   "mimetype": "text/x-python",
   "name": "python",
   "nbconvert_exporter": "python",
   "pygments_lexer": "ipython3",
   "version": "3.7.4"
  }
 },
 "nbformat": 4,
 "nbformat_minor": 5
}
